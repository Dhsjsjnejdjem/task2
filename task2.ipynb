{
 "cells": [
  {
   "cell_type": "code",
   "execution_count": 1,
   "id": "6da0b823",
   "metadata": {},
   "outputs": [],
   "source": [
    "import pandas as pd\n",
    "import numpy as np\n",
    "from sklearn import metrics\n",
    "from sklearn.model_selection import train_test_split\n",
    "import random\n",
    "import time\n",
    "import matplotlib.pyplot as plt"
   ]
  },
  {
   "cell_type": "code",
   "execution_count": 2,
   "id": "e516fb67",
   "metadata": {},
   "outputs": [
    {
     "name": "stdout",
     "output_type": "stream",
     "text": [
      "Requirement already satisfied: matplotlib in c:\\users\\pl\\.conda\\envs\\jupyter_webapp-venv\\lib\\site-packages (3.7.2)\n",
      "Requirement already satisfied: contourpy>=1.0.1 in c:\\users\\pl\\.conda\\envs\\jupyter_webapp-venv\\lib\\site-packages (from matplotlib) (1.1.0)\n",
      "Requirement already satisfied: cycler>=0.10 in c:\\users\\pl\\.conda\\envs\\jupyter_webapp-venv\\lib\\site-packages (from matplotlib) (0.11.0)\n",
      "Requirement already satisfied: fonttools>=4.22.0 in c:\\users\\pl\\.conda\\envs\\jupyter_webapp-venv\\lib\\site-packages (from matplotlib) (4.42.1)\n",
      "Requirement already satisfied: kiwisolver>=1.0.1 in c:\\users\\pl\\.conda\\envs\\jupyter_webapp-venv\\lib\\site-packages (from matplotlib) (1.4.5)\n",
      "Requirement already satisfied: numpy>=1.20 in c:\\users\\pl\\.conda\\envs\\jupyter_webapp-venv\\lib\\site-packages (from matplotlib) (1.25.2)\n",
      "Requirement already satisfied: packaging>=20.0 in c:\\users\\pl\\.conda\\envs\\jupyter_webapp-venv\\lib\\site-packages (from matplotlib) (23.0)\n",
      "Requirement already satisfied: pillow>=6.2.0 in c:\\users\\pl\\.conda\\envs\\jupyter_webapp-venv\\lib\\site-packages (from matplotlib) (10.0.0)\n",
      "Requirement already satisfied: pyparsing<3.1,>=2.3.1 in c:\\users\\pl\\.conda\\envs\\jupyter_webapp-venv\\lib\\site-packages (from matplotlib) (3.0.9)\n",
      "Requirement already satisfied: python-dateutil>=2.7 in c:\\users\\pl\\.conda\\envs\\jupyter_webapp-venv\\lib\\site-packages (from matplotlib) (2.8.2)\n",
      "Requirement already satisfied: six>=1.5 in c:\\users\\pl\\.conda\\envs\\jupyter_webapp-venv\\lib\\site-packages (from python-dateutil>=2.7->matplotlib) (1.16.0)\n",
      "Note: you may need to restart the kernel to use updated packages.\n"
     ]
    }
   ],
   "source": [
    "pip install matplotlib"
   ]
  },
  {
   "cell_type": "code",
   "execution_count": 3,
   "id": "57596ce1",
   "metadata": {},
   "outputs": [
    {
     "name": "stdout",
     "output_type": "stream",
     "text": [
      "Requirement already satisfied: pandas in c:\\users\\pl\\.conda\\envs\\jupyter_webapp-venv\\lib\\site-packages (2.0.3)\n",
      "Requirement already satisfied: python-dateutil>=2.8.2 in c:\\users\\pl\\.conda\\envs\\jupyter_webapp-venv\\lib\\site-packages (from pandas) (2.8.2)\n",
      "Requirement already satisfied: pytz>=2020.1 in c:\\users\\pl\\.conda\\envs\\jupyter_webapp-venv\\lib\\site-packages (from pandas) (2023.3)\n",
      "Requirement already satisfied: tzdata>=2022.1 in c:\\users\\pl\\.conda\\envs\\jupyter_webapp-venv\\lib\\site-packages (from pandas) (2023.3)\n",
      "Requirement already satisfied: numpy>=1.21.0 in c:\\users\\pl\\.conda\\envs\\jupyter_webapp-venv\\lib\\site-packages (from pandas) (1.25.2)\n",
      "Requirement already satisfied: six>=1.5 in c:\\users\\pl\\.conda\\envs\\jupyter_webapp-venv\\lib\\site-packages (from python-dateutil>=2.8.2->pandas) (1.16.0)\n",
      "Note: you may need to restart the kernel to use updated packages.\n"
     ]
    }
   ],
   "source": [
    "pip install pandas"
   ]
  },
  {
   "cell_type": "code",
   "execution_count": 4,
   "id": "eac139f6",
   "metadata": {},
   "outputs": [
    {
     "name": "stdout",
     "output_type": "stream",
     "text": [
      "Requirement already satisfied: numpy in c:\\users\\pl\\.conda\\envs\\jupyter_webapp-venv\\lib\\site-packages (1.25.2)\n",
      "Note: you may need to restart the kernel to use updated packages.\n"
     ]
    }
   ],
   "source": [
    "pip install numpy"
   ]
  },
  {
   "cell_type": "code",
   "execution_count": 5,
   "id": "74711f92",
   "metadata": {},
   "outputs": [
    {
     "name": "stdout",
     "output_type": "stream",
     "text": [
      "Requirement already satisfied: scikit-learn in c:\\users\\pl\\.conda\\envs\\jupyter_webapp-venv\\lib\\site-packages (1.3.0)\n",
      "Requirement already satisfied: numpy>=1.17.3 in c:\\users\\pl\\.conda\\envs\\jupyter_webapp-venv\\lib\\site-packages (from scikit-learn) (1.25.2)\n",
      "Requirement already satisfied: scipy>=1.5.0 in c:\\users\\pl\\.conda\\envs\\jupyter_webapp-venv\\lib\\site-packages (from scikit-learn) (1.11.2)\n",
      "Requirement already satisfied: joblib>=1.1.1 in c:\\users\\pl\\.conda\\envs\\jupyter_webapp-venv\\lib\\site-packages (from scikit-learn) (1.3.2)\n",
      "Requirement already satisfied: threadpoolctl>=2.0.0 in c:\\users\\pl\\.conda\\envs\\jupyter_webapp-venv\\lib\\site-packages (from scikit-learn) (3.2.0)\n",
      "Note: you may need to restart the kernel to use updated packages.\n"
     ]
    }
   ],
   "source": [
    "pip install scikit-learn"
   ]
  },
  {
   "cell_type": "code",
   "execution_count": 6,
   "id": "1c5f8959",
   "metadata": {},
   "outputs": [],
   "source": [
    "#!jupyter nbextension enable --py widgetsnbextension --sys-prefix\n",
    "#!jupyter serverextension enable voila --sys-prefix"
   ]
  },
  {
   "cell_type": "code",
   "execution_count": 7,
   "id": "315c74bf",
   "metadata": {},
   "outputs": [],
   "source": [
    "dataset = pd.read_excel(r\"C:\\Users\\pl\\Desktop\\dataset.xlsx\")"
   ]
  },
  {
   "cell_type": "code",
   "execution_count": 8,
   "id": "26885e0e",
   "metadata": {},
   "outputs": [
    {
     "name": "stdout",
     "output_type": "stream",
     "text": [
      "Requirement already satisfied: openpyxl in c:\\users\\pl\\.conda\\envs\\jupyter_webapp-venv\\lib\\site-packages (3.1.2)\n",
      "Requirement already satisfied: et-xmlfile in c:\\users\\pl\\.conda\\envs\\jupyter_webapp-venv\\lib\\site-packages (from openpyxl) (1.1.0)\n",
      "Note: you may need to restart the kernel to use updated packages.\n"
     ]
    }
   ],
   "source": [
    "pip install openpyxl"
   ]
  },
  {
   "cell_type": "code",
   "execution_count": 9,
   "id": "ee16ce93",
   "metadata": {},
   "outputs": [
    {
     "data": {
      "text/html": [
       "<div>\n",
       "<style scoped>\n",
       "    .dataframe tbody tr th:only-of-type {\n",
       "        vertical-align: middle;\n",
       "    }\n",
       "\n",
       "    .dataframe tbody tr th {\n",
       "        vertical-align: top;\n",
       "    }\n",
       "\n",
       "    .dataframe thead th {\n",
       "        text-align: right;\n",
       "    }\n",
       "</style>\n",
       "<table border=\"1\" class=\"dataframe\">\n",
       "  <thead>\n",
       "    <tr style=\"text-align: right;\">\n",
       "      <th></th>\n",
       "      <th>Network</th>\n",
       "      <th>Traffic</th>\n",
       "      <th>Password</th>\n",
       "    </tr>\n",
       "  </thead>\n",
       "  <tbody>\n",
       "    <tr>\n",
       "      <th>0</th>\n",
       "      <td>Matt</td>\n",
       "      <td>109</td>\n",
       "      <td>Open</td>\n",
       "    </tr>\n",
       "    <tr>\n",
       "      <th>1</th>\n",
       "      <td>Sam</td>\n",
       "      <td>93</td>\n",
       "      <td>Open</td>\n",
       "    </tr>\n",
       "    <tr>\n",
       "      <th>2</th>\n",
       "      <td>George</td>\n",
       "      <td>57</td>\n",
       "      <td>Open</td>\n",
       "    </tr>\n",
       "    <tr>\n",
       "      <th>3</th>\n",
       "      <td>George</td>\n",
       "      <td>123</td>\n",
       "      <td>Open</td>\n",
       "    </tr>\n",
       "    <tr>\n",
       "      <th>4</th>\n",
       "      <td>Sam</td>\n",
       "      <td>21</td>\n",
       "      <td>Open</td>\n",
       "    </tr>\n",
       "  </tbody>\n",
       "</table>\n",
       "</div>"
      ],
      "text/plain": [
       "  Network   Traffic Password\n",
       "0     Matt      109     Open\n",
       "1      Sam       93     Open\n",
       "2   George       57     Open\n",
       "3   George      123     Open\n",
       "4      Sam       21     Open"
      ]
     },
     "execution_count": 9,
     "metadata": {},
     "output_type": "execute_result"
    }
   ],
   "source": [
    "dataset.head()"
   ]
  },
  {
   "cell_type": "code",
   "execution_count": 10,
   "id": "9dd4d644",
   "metadata": {},
   "outputs": [],
   "source": [
    "x=dataset['Traffic']\n",
    "y=dataset['Password']"
   ]
  },
  {
   "cell_type": "code",
   "execution_count": 11,
   "id": "5756f753",
   "metadata": {},
   "outputs": [],
   "source": [
    "x=np.array(x)\n",
    "y=np.array(y)"
   ]
  },
  {
   "cell_type": "code",
   "execution_count": 12,
   "id": "562e54d4",
   "metadata": {},
   "outputs": [
    {
     "data": {
      "text/plain": [
       "array([109,  93,  57, 123,  21, 143, 116,  35, 183, 199, 179,  42, 176,\n",
       "       187,  87, 184, 116, 150,  44, 176,  21, 100, 118, 105,  79,  16,\n",
       "       180, 179,  90, 154,  71, 197,  78, 171,  73,  97,  43, 168,  23,\n",
       "       177, 188,  47, 171, 140,  86, 191, 142, 150,  41], dtype=int64)"
      ]
     },
     "execution_count": 12,
     "metadata": {},
     "output_type": "execute_result"
    }
   ],
   "source": [
    "x"
   ]
  },
  {
   "cell_type": "code",
   "execution_count": 13,
   "id": "873c9a9f",
   "metadata": {},
   "outputs": [
    {
     "data": {
      "text/plain": [
       "array(['Open', 'Open', 'Open', 'Open', 'Open', 'Open', 'Open', 'Open',\n",
       "       'Open', 'Open', 'Open', 'Open', 'Open', 'Open', 'Open', 'Open',\n",
       "       'Open', 'Open', 'Open', 'Open', 'Open', 'Open', 'Open', 'Open',\n",
       "       'Open', 'Open', 'Open', 'Open', 'Open', 'Open', 'Open', 'Open',\n",
       "       'Open', 'Open', 'Open', 'Open', 'Open', 'Open', 'Open', 'Open',\n",
       "       'Open', 'Open', 'Open', 'Open', 'Open', 'Open', 'Open', 'Open',\n",
       "       'Open'], dtype=object)"
      ]
     },
     "execution_count": 13,
     "metadata": {},
     "output_type": "execute_result"
    }
   ],
   "source": [
    "y"
   ]
  },
  {
   "cell_type": "code",
   "execution_count": 14,
   "id": "e0930815",
   "metadata": {},
   "outputs": [
    {
     "data": {
      "text/plain": [
       "49"
      ]
     },
     "execution_count": 14,
     "metadata": {},
     "output_type": "execute_result"
    }
   ],
   "source": [
    "len(x)"
   ]
  },
  {
   "cell_type": "code",
   "execution_count": 15,
   "id": "2c3932ca",
   "metadata": {},
   "outputs": [
    {
     "data": {
      "text/plain": [
       "49"
      ]
     },
     "execution_count": 15,
     "metadata": {},
     "output_type": "execute_result"
    }
   ],
   "source": [
    "len(y)"
   ]
  },
  {
   "cell_type": "code",
   "execution_count": 22,
   "id": "3650136d",
   "metadata": {},
   "outputs": [],
   "source": [
    "import threading\n",
    "import time\n",
    "import ipywidgets as widgets\n",
    "from IPython.display import display, clear_output\n",
    "\n",
    "network_segments = {\n",
    "    \"internal\": [\"192.168.1.0/24\"],\n",
    "    \"guest\": [\"192.168.2.0/24\"],\n",
    "}\n",
    "\n",
    "def background_loop():\n",
    "    while not shutdown_event.is_set():\n",
    "        print(\"Loop is running...\")\n",
    "        time.sleep(1)\n",
    "\n",
    "shutdown_event = threading.Event()\n",
    "\n",
    "background_thread = threading.Thread(target=background_loop)\n",
    "background_thread.start()\n",
    "\n",
    "# Define functions and data used in the code\n",
    "def detect_intrusion(log_entry):\n",
    "    if \"admin\" in log_entry and \"GET\" in log_entry:\n",
    "        return \"Potential SQL Injection Attempt\"\n",
    "    return \"No intrusion detected\"\n",
    "\n",
    "# Define log_data, network_traffic, user_behavior, and other data if missing\n",
    "\n",
    "# Create widgets for Network Segmentation\n",
    "def check_segment(ip):\n",
    "    for segment, ips in network_segments.items():\n",
    "        if ip in ips:\n",
    "            return f\"{ip} belongs to {segment} segment.\"\n",
    "    return f\"{ip} doesn't belong to any segment.\"\n",
    "\n",
    "# Create widgets for Regular Audits and Penetration Testing\n",
    "def vulnerability_scan():\n",
    "    vulnerabilities = [\"Vuln1\", \"Vuln2\"]\n",
    "    return vulnerabilities\n",
    "\n",
    "# Define widgets and their behavior\n",
    "run_intrusion_button = widgets.Button(description=\"Run IDS\")\n",
    "intrusion_output = widgets.Output()\n",
    "\n",
    "def run_intrusion(btn):\n",
    "    with intrusion_output:\n",
    "        intrusion_output.clear_output()\n",
    "        for log_entry in network_traffic:\n",
    "            result = detect_intrusion(log_entry)\n",
    "            print(f\"Log: {log_entry} - Result: {result}\")\n",
    "\n",
    "run_intrusion_button.on_click(run_intrusion)\n",
    "\n",
    "log_display = widgets.Output()\n",
    "honeypot_button = widgets.Button(description=\"Run Honeypot\")\n",
    "output_honeypot = widgets.Output()\n",
    "\n",
    "def run_honeypot_interaction(btn):\n",
    "    with output_honeypot:\n",
    "        output_honeypot.clear_output()\n",
    "        print(\"Hacker detected! Gathering information...\")\n",
    "\n",
    "honeypot_button.on_click(run_honeypot_interaction)\n",
    "\n",
    "# Define network_segments and other data if missing\n",
    "\n",
    "# Define user_behavior data (assuming it's defined elsewhere in your code)\n",
    "user_behavior = [\n",
    "    {\"user\": \"alice\", \"activity\": \"login\", \"timestamp\": \"2023-08-25 12:00:00\"},\n",
    "    # ... (more data)\n",
    "]\n",
    "\n",
    "user_anomaly_output = widgets.Output()\n",
    "\n",
    "for entry in user_behavior:\n",
    "    if entry[\"activity\"] == \"login\" and entry[\"timestamp\"] != \"expected_time\":\n",
    "        with user_anomaly_output:\n",
    "            print(f\"Anomaly detected: Unexpected login by {entry['user']}\")\n",
    "\n",
    "# Define ips_to_check and other data if missing\n",
    "ips_to_check = [\"192.168.1.10\", \"192.168.2.10\"]\n",
    "\n",
    "network_segment_output = widgets.Output()\n",
    "\n",
    "for ip in ips_to_check:\n",
    "    segment_result = check_segment(ip)\n",
    "    with network_segment_output:\n",
    "        print(segment_result)\n",
    "\n",
    "vuln_scan_output = widgets.Output()\n",
    "\n",
    "vulns_found = vulnerability_scan()\n",
    "with vuln_scan_output:\n",
    "    if vulns_found:\n",
    "        print(\"Vulnerabilities found:\", vulns_found)\n",
    "    else:\n",
    "        print(\"No vulnerabilities found.\")\n",
    "\n",
    "# Arrange widgets in layout\n",
    "widgets.VBox([\n",
    "    run_intrusion_button,\n",
    "    intrusion_output,\n",
    "    log_display,\n",
    "    honeypot_button,\n",
    "    output_honeypot,\n",
    "    user_anomaly_output,\n",
    "    network_segment_output,\n",
    "    vuln_scan_output\n",
    "])\n"
   ]
  },
  {
   "cell_type": "code",
   "execution_count": 17,
   "id": "3430249c",
   "metadata": {},
   "outputs": [
    {
     "name": "stdout",
     "output_type": "stream",
     "text": [
      "Loop is running...\n",
      "Requirement already satisfied: ipywidgets in c:\\users\\pl\\.conda\\envs\\jupyter_webapp-venv\\lib\\site-packages (8.1.0)\n",
      "Requirement already satisfied: comm>=0.1.3 in c:\\users\\pl\\.conda\\envs\\jupyter_webapp-venv\\lib\\site-packages (from ipywidgets) (0.1.4)\n",
      "Requirement already satisfied: ipython>=6.1.0 in c:\\users\\pl\\.conda\\envs\\jupyter_webapp-venv\\lib\\site-packages (from ipywidgets) (8.12.2)\n",
      "Requirement already satisfied: traitlets>=4.3.1 in c:\\users\\pl\\.conda\\envs\\jupyter_webapp-venv\\lib\\site-packages (from ipywidgets) (5.7.1)\n",
      "Requirement already satisfied: widgetsnbextension~=4.0.7 in c:\\users\\pl\\.conda\\envs\\jupyter_webapp-venv\\lib\\site-packages (from ipywidgets) (4.0.8)\n",
      "Requirement already satisfied: jupyterlab-widgets~=3.0.7 in c:\\users\\pl\\.conda\\envs\\jupyter_webapp-venv\\lib\\site-packages (from ipywidgets) (3.0.8)\n",
      "Requirement already satisfied: backcall in c:\\users\\pl\\.conda\\envs\\jupyter_webapp-venv\\lib\\site-packages (from ipython>=6.1.0->ipywidgets) (0.2.0)\n",
      "Requirement already satisfied: decorator in c:\\users\\pl\\.conda\\envs\\jupyter_webapp-venv\\lib\\site-packages (from ipython>=6.1.0->ipywidgets) (5.1.1)\n",
      "Requirement already satisfied: jedi>=0.16 in c:\\users\\pl\\.conda\\envs\\jupyter_webapp-venv\\lib\\site-packages (from ipython>=6.1.0->ipywidgets) (0.18.1)\n",
      "Requirement already satisfied: matplotlib-inline in c:\\users\\pl\\.conda\\envs\\jupyter_webapp-venv\\lib\\site-packages (from ipython>=6.1.0->ipywidgets) (0.1.6)\n",
      "Requirement already satisfied: pickleshare in c:\\users\\pl\\.conda\\envs\\jupyter_webapp-venv\\lib\\site-packages (from ipython>=6.1.0->ipywidgets) (0.7.5)\n",
      "Requirement already satisfied: prompt-toolkit!=3.0.37,<3.1.0,>=3.0.30 in c:\\users\\pl\\.conda\\envs\\jupyter_webapp-venv\\lib\\site-packages (from ipython>=6.1.0->ipywidgets) (3.0.36)\n",
      "Requirement already satisfied: pygments>=2.4.0 in c:\\users\\pl\\.conda\\envs\\jupyter_webapp-venv\\lib\\site-packages (from ipython>=6.1.0->ipywidgets) (2.15.1)\n",
      "Requirement already satisfied: stack-data in c:\\users\\pl\\.conda\\envs\\jupyter_webapp-venv\\lib\\site-packages (from ipython>=6.1.0->ipywidgets) (0.2.0)\n",
      "Requirement already satisfied: colorama in c:\\users\\pl\\.conda\\envs\\jupyter_webapp-venv\\lib\\site-packages (from ipython>=6.1.0->ipywidgets) (0.4.6)\n",
      "Requirement already satisfied: parso<0.9.0,>=0.8.0 in c:\\users\\pl\\.conda\\envs\\jupyter_webapp-venv\\lib\\site-packages (from jedi>=0.16->ipython>=6.1.0->ipywidgets) (0.8.3)\n",
      "Requirement already satisfied: wcwidth in c:\\users\\pl\\.conda\\envs\\jupyter_webapp-venv\\lib\\site-packages (from prompt-toolkit!=3.0.37,<3.1.0,>=3.0.30->ipython>=6.1.0->ipywidgets) (0.2.5)\n",
      "Requirement already satisfied: executing in c:\\users\\pl\\.conda\\envs\\jupyter_webapp-venv\\lib\\site-packages (from stack-data->ipython>=6.1.0->ipywidgets) (0.8.3)\n",
      "Requirement already satisfied: asttokens in c:\\users\\pl\\.conda\\envs\\jupyter_webapp-venv\\lib\\site-packages (from stack-data->ipython>=6.1.0->ipywidgets) (2.0.5)\n",
      "Requirement already satisfied: pure-eval in c:\\users\\pl\\.conda\\envs\\jupyter_webapp-venv\\lib\\site-packages (from stack-data->ipython>=6.1.0->ipywidgets) (0.2.2)\n",
      "Requirement already satisfied: six in c:\\users\\pl\\.conda\\envs\\jupyter_webapp-venv\\lib\\site-packages (from asttokens->stack-data->ipython>=6.1.0->ipywidgets) (1.16.0)\n",
      "Note: you may need to restart the kernel to use updated packages.\n"
     ]
    }
   ],
   "source": [
    "pip install ipywidgets"
   ]
  },
  {
   "cell_type": "code",
   "execution_count": 18,
   "id": "32c18f11",
   "metadata": {},
   "outputs": [
    {
     "name": "stdout",
     "output_type": "stream",
     "text": [
      "Loop is running...\n",
      "Loop is running...\n",
      "Loop is running...\n",
      "Requirement already satisfied: voila in c:\\users\\pl\\appdata\\roaming\\python\\python310\\site-packages (0.5.1)\n",
      "Requirement already satisfied: jupyter-client<9,>=7.4.4 in c:\\users\\pl\\appdata\\roaming\\python\\python310\\site-packages (from voila) (8.3.0)\n",
      "Requirement already satisfied: jupyter-core>=4.11.0 in c:\\users\\pl\\.conda\\envs\\jupyter_webapp-venv\\lib\\site-packages (from voila) (5.3.0)\n",
      "Requirement already satisfied: jupyter-server<3,>=2.0.0 in c:\\users\\pl\\appdata\\roaming\\python\\python310\\site-packages (from voila) (2.7.2)\n",
      "Requirement already satisfied: jupyterlab-server<3,>=2.3.0 in c:\\users\\pl\\.conda\\envs\\jupyter_webapp-venv\\lib\\site-packages (from voila) (2.24.0)\n",
      "Requirement already satisfied: nbclient<0.8,>=0.4.0 in c:\\users\\pl\\.conda\\envs\\jupyter_webapp-venv\\lib\\site-packages (from voila) (0.5.13)\n",
      "Requirement already satisfied: nbconvert<8,>=6.4.5 in c:\\users\\pl\\.conda\\envs\\jupyter_webapp-venv\\lib\\site-packages (from voila) (6.5.4)\n",
      "Requirement already satisfied: traitlets<6,>=5.0.3 in c:\\users\\pl\\.conda\\envs\\jupyter_webapp-venv\\lib\\site-packages (from voila) (5.7.1)\n",
      "Requirement already satisfied: websockets>=9.0 in c:\\users\\pl\\appdata\\roaming\\python\\python310\\site-packages (from voila) (11.0.3)\n",
      "Requirement already satisfied: python-dateutil>=2.8.2 in c:\\users\\pl\\.conda\\envs\\jupyter_webapp-venv\\lib\\site-packages (from jupyter-client<9,>=7.4.4->voila) (2.8.2)\n",
      "Requirement already satisfied: pyzmq>=23.0 in c:\\users\\pl\\appdata\\roaming\\python\\python310\\site-packages (from jupyter-client<9,>=7.4.4->voila) (25.1.1)\n",
      "Requirement already satisfied: tornado>=6.2 in c:\\users\\pl\\appdata\\roaming\\python\\python310\\site-packages (from jupyter-client<9,>=7.4.4->voila) (6.3.3)\n",
      "Requirement already satisfied: platformdirs>=2.5 in c:\\users\\pl\\.conda\\envs\\jupyter_webapp-venv\\lib\\site-packages (from jupyter-core>=4.11.0->voila) (3.10.0)\n",
      "Requirement already satisfied: pywin32>=300 in c:\\users\\pl\\.conda\\envs\\jupyter_webapp-venv\\lib\\site-packages (from jupyter-core>=4.11.0->voila) (305.1)\n",
      "Requirement already satisfied: anyio>=3.1.0 in c:\\users\\pl\\.conda\\envs\\jupyter_webapp-venv\\lib\\site-packages (from jupyter-server<3,>=2.0.0->voila) (3.5.0)\n",
      "Requirement already satisfied: argon2-cffi in c:\\users\\pl\\.conda\\envs\\jupyter_webapp-venv\\lib\\site-packages (from jupyter-server<3,>=2.0.0->voila) (21.3.0)\n",
      "Requirement already satisfied: jinja2 in c:\\users\\pl\\.conda\\envs\\jupyter_webapp-venv\\lib\\site-packages (from jupyter-server<3,>=2.0.0->voila) (3.1.2)\n",
      "Requirement already satisfied: jupyter-events>=0.6.0 in c:\\users\\pl\\appdata\\roaming\\python\\python310\\site-packages (from jupyter-server<3,>=2.0.0->voila) (0.7.0)\n",
      "Requirement already satisfied: jupyter-server-terminals in c:\\users\\pl\\appdata\\roaming\\python\\python310\\site-packages (from jupyter-server<3,>=2.0.0->voila) (0.4.4)\n",
      "Requirement already satisfied: nbformat>=5.3.0 in c:\\users\\pl\\.conda\\envs\\jupyter_webapp-venv\\lib\\site-packages (from jupyter-server<3,>=2.0.0->voila) (5.7.0)\n",
      "Requirement already satisfied: overrides in c:\\users\\pl\\appdata\\roaming\\python\\python310\\site-packages (from jupyter-server<3,>=2.0.0->voila) (7.4.0)\n",
      "Requirement already satisfied: packaging in c:\\users\\pl\\.conda\\envs\\jupyter_webapp-venv\\lib\\site-packages (from jupyter-server<3,>=2.0.0->voila) (23.0)\n",
      "Requirement already satisfied: prometheus-client in c:\\users\\pl\\.conda\\envs\\jupyter_webapp-venv\\lib\\site-packages (from jupyter-server<3,>=2.0.0->voila) (0.14.1)\n",
      "Requirement already satisfied: pywinpty in c:\\users\\pl\\.conda\\envs\\jupyter_webapp-venv\\lib\\site-packages (from jupyter-server<3,>=2.0.0->voila) (2.0.10)\n",
      "Requirement already satisfied: send2trash>=1.8.2 in c:\\users\\pl\\appdata\\roaming\\python\\python310\\site-packages (from jupyter-server<3,>=2.0.0->voila) (1.8.2)\n",
      "Requirement already satisfied: terminado>=0.8.3 in c:\\users\\pl\\.conda\\envs\\jupyter_webapp-venv\\lib\\site-packages (from jupyter-server<3,>=2.0.0->voila) (0.17.1)\n",
      "Requirement already satisfied: websocket-client in c:\\users\\pl\\.conda\\envs\\jupyter_webapp-venv\\lib\\site-packages (from jupyter-server<3,>=2.0.0->voila) (0.58.0)\n",
      "Requirement already satisfied: babel>=2.10 in c:\\users\\pl\\.conda\\envs\\jupyter_webapp-venv\\lib\\site-packages (from jupyterlab-server<3,>=2.3.0->voila) (2.12.1)\n",
      "Requirement already satisfied: json5>=0.9.0 in c:\\users\\pl\\.conda\\envs\\jupyter_webapp-venv\\lib\\site-packages (from jupyterlab-server<3,>=2.3.0->voila) (0.9.14)\n",
      "Requirement already satisfied: jsonschema>=4.17.3 in c:\\users\\pl\\appdata\\roaming\\python\\python310\\site-packages (from jupyterlab-server<3,>=2.3.0->voila) (4.19.0)\n",
      "Requirement already satisfied: requests>=2.28 in c:\\users\\pl\\.conda\\envs\\jupyter_webapp-venv\\lib\\site-packages (from jupyterlab-server<3,>=2.3.0->voila) (2.31.0)\n",
      "Requirement already satisfied: nest-asyncio in c:\\users\\pl\\.conda\\envs\\jupyter_webapp-venv\\lib\\site-packages (from nbclient<0.8,>=0.4.0->voila) (1.5.6)\n",
      "Requirement already satisfied: lxml in c:\\users\\pl\\.conda\\envs\\jupyter_webapp-venv\\lib\\site-packages (from nbconvert<8,>=6.4.5->voila) (4.9.2)\n",
      "Requirement already satisfied: beautifulsoup4 in c:\\users\\pl\\.conda\\envs\\jupyter_webapp-venv\\lib\\site-packages (from nbconvert<8,>=6.4.5->voila) (4.12.2)\n",
      "Requirement already satisfied: bleach in c:\\users\\pl\\.conda\\envs\\jupyter_webapp-venv\\lib\\site-packages (from nbconvert<8,>=6.4.5->voila) (4.1.0)\n",
      "Requirement already satisfied: defusedxml in c:\\users\\pl\\.conda\\envs\\jupyter_webapp-venv\\lib\\site-packages (from nbconvert<8,>=6.4.5->voila) (0.7.1)\n",
      "Requirement already satisfied: entrypoints>=0.2.2 in c:\\users\\pl\\.conda\\envs\\jupyter_webapp-venv\\lib\\site-packages (from nbconvert<8,>=6.4.5->voila) (0.4)\n",
      "Requirement already satisfied: jupyterlab-pygments in c:\\users\\pl\\.conda\\envs\\jupyter_webapp-venv\\lib\\site-packages (from nbconvert<8,>=6.4.5->voila) (0.1.2)\n",
      "Requirement already satisfied: MarkupSafe>=2.0 in c:\\users\\pl\\.conda\\envs\\jupyter_webapp-venv\\lib\\site-packages (from nbconvert<8,>=6.4.5->voila) (2.1.1)\n",
      "Requirement already satisfied: mistune<2,>=0.8.1 in c:\\users\\pl\\.conda\\envs\\jupyter_webapp-venv\\lib\\site-packages (from nbconvert<8,>=6.4.5->voila) (0.8.4)\n",
      "Requirement already satisfied: pandocfilters>=1.4.1 in c:\\users\\pl\\.conda\\envs\\jupyter_webapp-venv\\lib\\site-packages (from nbconvert<8,>=6.4.5->voila) (1.5.0)\n",
      "Requirement already satisfied: pygments>=2.4.1 in c:\\users\\pl\\.conda\\envs\\jupyter_webapp-venv\\lib\\site-packages (from nbconvert<8,>=6.4.5->voila) (2.15.1)\n",
      "Requirement already satisfied: tinycss2 in c:\\users\\pl\\.conda\\envs\\jupyter_webapp-venv\\lib\\site-packages (from nbconvert<8,>=6.4.5->voila) (1.2.1)\n",
      "Requirement already satisfied: idna>=2.8 in c:\\users\\pl\\.conda\\envs\\jupyter_webapp-venv\\lib\\site-packages (from anyio>=3.1.0->jupyter-server<3,>=2.0.0->voila) (3.4)\n",
      "Requirement already satisfied: sniffio>=1.1 in c:\\users\\pl\\.conda\\envs\\jupyter_webapp-venv\\lib\\site-packages (from anyio>=3.1.0->jupyter-server<3,>=2.0.0->voila) (1.2.0)\n",
      "Requirement already satisfied: attrs>=22.2.0 in c:\\users\\pl\\appdata\\roaming\\python\\python310\\site-packages (from jsonschema>=4.17.3->jupyterlab-server<3,>=2.3.0->voila) (23.1.0)\n",
      "Requirement already satisfied: jsonschema-specifications>=2023.03.6 in c:\\users\\pl\\appdata\\roaming\\python\\python310\\site-packages (from jsonschema>=4.17.3->jupyterlab-server<3,>=2.3.0->voila) (2023.7.1)\n",
      "Requirement already satisfied: referencing>=0.28.4 in c:\\users\\pl\\appdata\\roaming\\python\\python310\\site-packages (from jsonschema>=4.17.3->jupyterlab-server<3,>=2.3.0->voila) (0.30.2)\n",
      "Requirement already satisfied: rpds-py>=0.7.1 in c:\\users\\pl\\appdata\\roaming\\python\\python310\\site-packages (from jsonschema>=4.17.3->jupyterlab-server<3,>=2.3.0->voila) (0.9.2)\n",
      "Requirement already satisfied: python-json-logger>=2.0.4 in c:\\users\\pl\\appdata\\roaming\\python\\python310\\site-packages (from jupyter-events>=0.6.0->jupyter-server<3,>=2.0.0->voila) (2.0.7)\n",
      "Requirement already satisfied: pyyaml>=5.3 in c:\\users\\pl\\.conda\\envs\\jupyter_webapp-venv\\lib\\site-packages (from jupyter-events>=0.6.0->jupyter-server<3,>=2.0.0->voila) (6.0.1)\n",
      "Requirement already satisfied: rfc3339-validator in c:\\users\\pl\\appdata\\roaming\\python\\python310\\site-packages (from jupyter-events>=0.6.0->jupyter-server<3,>=2.0.0->voila) (0.1.4)\n",
      "Requirement already satisfied: rfc3986-validator>=0.1.1 in c:\\users\\pl\\appdata\\roaming\\python\\python310\\site-packages (from jupyter-events>=0.6.0->jupyter-server<3,>=2.0.0->voila) (0.1.1)\n",
      "Requirement already satisfied: fastjsonschema in c:\\users\\pl\\.conda\\envs\\jupyter_webapp-venv\\lib\\site-packages (from nbformat>=5.3.0->jupyter-server<3,>=2.0.0->voila) (2.16.2)\n",
      "Requirement already satisfied: six>=1.5 in c:\\users\\pl\\.conda\\envs\\jupyter_webapp-venv\\lib\\site-packages (from python-dateutil>=2.8.2->jupyter-client<9,>=7.4.4->voila) (1.16.0)\n",
      "Requirement already satisfied: charset-normalizer<4,>=2 in c:\\users\\pl\\.conda\\envs\\jupyter_webapp-venv\\lib\\site-packages (from requests>=2.28->jupyterlab-server<3,>=2.3.0->voila) (3.2.0)\n",
      "Requirement already satisfied: urllib3<3,>=1.21.1 in c:\\users\\pl\\.conda\\envs\\jupyter_webapp-venv\\lib\\site-packages (from requests>=2.28->jupyterlab-server<3,>=2.3.0->voila) (2.0.4)\n",
      "Requirement already satisfied: certifi>=2017.4.17 in c:\\users\\pl\\.conda\\envs\\jupyter_webapp-venv\\lib\\site-packages (from requests>=2.28->jupyterlab-server<3,>=2.3.0->voila) (2023.7.22)\n",
      "Requirement already satisfied: argon2-cffi-bindings in c:\\users\\pl\\.conda\\envs\\jupyter_webapp-venv\\lib\\site-packages (from argon2-cffi->jupyter-server<3,>=2.0.0->voila) (21.2.0)\n",
      "Requirement already satisfied: soupsieve>1.2 in c:\\users\\pl\\.conda\\envs\\jupyter_webapp-venv\\lib\\site-packages (from beautifulsoup4->nbconvert<8,>=6.4.5->voila) (2.4)\n",
      "Requirement already satisfied: webencodings in c:\\users\\pl\\.conda\\envs\\jupyter_webapp-venv\\lib\\site-packages (from bleach->nbconvert<8,>=6.4.5->voila) (0.5.1)\n",
      "Requirement already satisfied: fqdn in c:\\users\\pl\\appdata\\roaming\\python\\python310\\site-packages (from jsonschema>=4.17.3->jupyterlab-server<3,>=2.3.0->voila) (1.5.1)\n",
      "Requirement already satisfied: isoduration in c:\\users\\pl\\appdata\\roaming\\python\\python310\\site-packages (from jsonschema>=4.17.3->jupyterlab-server<3,>=2.3.0->voila) (20.11.0)\n",
      "Requirement already satisfied: jsonpointer>1.13 in c:\\users\\pl\\.conda\\envs\\jupyter_webapp-venv\\lib\\site-packages (from jsonschema>=4.17.3->jupyterlab-server<3,>=2.3.0->voila) (2.4)\n",
      "Requirement already satisfied: uri-template in c:\\users\\pl\\appdata\\roaming\\python\\python310\\site-packages (from jsonschema>=4.17.3->jupyterlab-server<3,>=2.3.0->voila) (1.3.0)\n",
      "Requirement already satisfied: webcolors>=1.11 in c:\\users\\pl\\appdata\\roaming\\python\\python310\\site-packages (from jsonschema>=4.17.3->jupyterlab-server<3,>=2.3.0->voila) (1.13)\n",
      "Requirement already satisfied: cffi>=1.0.1 in c:\\users\\pl\\.conda\\envs\\jupyter_webapp-venv\\lib\\site-packages (from argon2-cffi-bindings->argon2-cffi->jupyter-server<3,>=2.0.0->voila) (1.15.1)\n",
      "Requirement already satisfied: pycparser in c:\\users\\pl\\.conda\\envs\\jupyter_webapp-venv\\lib\\site-packages (from cffi>=1.0.1->argon2-cffi-bindings->argon2-cffi->jupyter-server<3,>=2.0.0->voila) (2.21)\n",
      "Requirement already satisfied: arrow>=0.15.0 in c:\\users\\pl\\.conda\\envs\\jupyter_webapp-venv\\lib\\site-packages (from isoduration->jsonschema>=4.17.3->jupyterlab-server<3,>=2.3.0->voila) (1.2.3)\n",
      "Note: you may need to restart the kernel to use updated packages.\n"
     ]
    }
   ],
   "source": [
    "pip install voila"
   ]
  },
  {
   "cell_type": "code",
   "execution_count": 20,
   "id": "0ec64d12",
   "metadata": {},
   "outputs": [],
   "source": [
    "voila task2.ipynb"
   ]
  },
  {
   "cell_type": "code",
   "execution_count": 23,
   "id": "48df35fb",
   "metadata": {},
   "outputs": [],
   "source": [
    "!pip freeze > rquirements.txt"
   ]
  },
  {
   "cell_type": "code",
   "execution_count": 25,
   "id": "135941ac",
   "metadata": {},
   "outputs": [],
   "source": [
    "pwd"
   ]
  },
  {
   "cell_type": "code",
   "execution_count": null,
   "id": "a803fb94",
   "metadata": {},
   "outputs": [],
   "source": []
  }
 ],
 "metadata": {
  "kernelspec": {
   "display_name": "Python 3 (ipykernel)",
   "language": "python",
   "name": "python3"
  },
  "language_info": {
   "codemirror_mode": {
    "name": "ipython",
    "version": 3
   },
   "file_extension": ".py",
   "mimetype": "text/x-python",
   "name": "python",
   "nbconvert_exporter": "python",
   "pygments_lexer": "ipython3",
   "version": "3.10.12"
  }
 },
 "nbformat": 4,
 "nbformat_minor": 5
}
